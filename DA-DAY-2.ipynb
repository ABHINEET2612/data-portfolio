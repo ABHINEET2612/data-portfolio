{
 "cells": [
  {
   "cell_type": "markdown",
   "id": "44056a20-b274-41f5-b44b-1b20a4dc2023",
   "metadata": {},
   "source": [
    "# DAY 2 OF DATA ANALYSIS \n",
    "<h1 style=\"font-size:3rem;color:orange;\">JUPYTER NB PRACTICE</h1>"
   ]
  },
  {
   "cell_type": "markdown",
   "id": "d42a0787-de44-48c0-9db9-b6a9aa912edc",
   "metadata": {},
   "source": [
    "<img src=\"https://raw.githubusercontent.com/github/explore/a4691f04ff219c1c2aa02fc61fda41aa43f1459a/topics/jupyter-notebook/jupyter-notebook.png\">"
   ]
  },
  {
   "cell_type": "code",
   "execution_count": 1,
   "id": "92abfb7d-f0f9-4940-981c-7e91cbac50d1",
   "metadata": {},
   "outputs": [
    {
     "name": "stdin",
     "output_type": "stream",
     "text": [
      "What's your NAME ? Abhineet\n"
     ]
    },
    {
     "name": "stdout",
     "output_type": "stream",
     "text": [
      "HELLO Abhineet!\n"
     ]
    }
   ],
   "source": [
    "person=input(\"What's your NAME ?\")\n",
    "message=\"HELLO {}!\".format(person)\n",
    "print(message)"
   ]
  },
  {
   "cell_type": "code",
   "execution_count": null,
   "id": "871b1eb3-cc72-4ef4-b17f-cdf3335539ab",
   "metadata": {},
   "outputs": [],
   "source": []
  },
  {
   "cell_type": "markdown",
   "id": "760bb510-3ba2-4946-8e2a-b729d0c04bd0",
   "metadata": {},
   "source": [
    "🔹 **What .format() does here:**\n",
    "\n",
    "\"HELLO {}!\" is a string template with {} acting like a placeholder.\n",
    ".format(person) replaces that {} with the value of person.\n",
    "\n",
    "So, if you typed Abhineet as input:\n",
    "person = \"Abhineet\"\n",
    "\n",
    "\"HELLO {}!\".format(person) becomes → \"HELLO Abhineet!\"\n",
    "\n",
    "### *The input() function in Python:\n",
    "\n",
    "1. Pauses the program and waits for the user to type something.\n",
    "2. Whatever the user types is returned as a string.\n",
    "3. You can then store that string in a variable."
   ]
  },
  {
   "cell_type": "code",
   "execution_count": 7,
   "id": "843a7966-2162-48c9-ad9c-6f4d97926552",
   "metadata": {},
   "outputs": [
    {
     "name": "stdout",
     "output_type": "stream",
     "text": [
      "My name is Abhineet and I'm 23 years old\n"
     ]
    }
   ],
   "source": [
    "name=\"Abhineet\"\n",
    "age=23\n",
    "msg=\"My name is {} and I'm {} years old\".format(name,age) \n",
    "print(msg)"
   ]
  },
  {
   "cell_type": "markdown",
   "id": "c71ba4a3-130c-4182-81be-fefec11efa39",
   "metadata": {},
   "source": [
    "### Multiline String and String Length"
   ]
  },
  {
   "cell_type": "code",
   "execution_count": 9,
   "id": "044b6844-15a5-4326-8288-5547a7bce192",
   "metadata": {},
   "outputs": [
    {
     "name": "stdout",
     "output_type": "stream",
     "text": [
      "The little girl found a hidden door in her garden. \n",
      "Behind it, she found an endless library of forgotten stories. \n",
      "Now, she spends her days lost in pages, never to be found again.\n",
      "179\n"
     ]
    }
   ],
   "source": [
    "story= \"\"\"The little girl found a hidden door in her garden. \n",
    "Behind it, she found an endless library of forgotten stories. \n",
    "Now, she spends her days lost in pages, never to be found again.\"\"\"\n",
    "print(story)\n",
    "print(len(story))"
   ]
  },
  {
   "cell_type": "markdown",
   "id": "9d289220-a199-49fd-a7d7-91ba6b8f9978",
   "metadata": {},
   "source": [
    "### MATH OPERATION"
   ]
  },
  {
   "cell_type": "code",
   "execution_count": 21,
   "id": "61388a9d-f400-4856-9534-e2ced90e0fc0",
   "metadata": {},
   "outputs": [
    {
     "name": "stdout",
     "output_type": "stream",
     "text": [
      "5.0 \n",
      " 6\n"
     ]
    }
   ],
   "source": [
    "x=5\n",
    "y=7\n",
    "z=(x*7)/y\n",
    "m=(x*4)%y            #Moudulus gives remainder\n",
    "print(z,\"\\n\",m)      #\"\\n make the 2nd output come in the next line instead of right next to the first one\"\n",
    "\n",
    "\n",
    "#print(z)\n",
    "#print(m)  #You can also print like this for hassle free output "
   ]
  },
  {
   "cell_type": "markdown",
   "id": "a9e88e7b-985e-4266-9a00-a2a8f4a0bf45",
   "metadata": {},
   "source": [
    "### LISTS(as other languages call it ARRAYS)"
   ]
  },
  {
   "cell_type": "code",
   "execution_count": 26,
   "id": "31143a95-a8a8-4c8c-8c13-f6761a2fd546",
   "metadata": {},
   "outputs": [
    {
     "name": "stdout",
     "output_type": "stream",
     "text": [
      "Joey\n"
     ]
    }
   ],
   "source": [
    "friends=['Monica','Phoebe','Rachel','Joey','Chandler','Ross']\n",
    "print(friends[3])"
   ]
  },
  {
   "cell_type": "code",
   "execution_count": null,
   "id": "7dcf722b-3b31-4d22-a3ac-3a6b67c6f9ae",
   "metadata": {},
   "outputs": [],
   "source": []
  }
 ],
 "metadata": {
  "kernelspec": {
   "display_name": "Python [conda env:base] *",
   "language": "python",
   "name": "conda-base-py"
  },
  "language_info": {
   "codemirror_mode": {
    "name": "ipython",
    "version": 3
   },
   "file_extension": ".py",
   "mimetype": "text/x-python",
   "name": "python",
   "nbconvert_exporter": "python",
   "pygments_lexer": "ipython3",
   "version": "3.13.5"
  }
 },
 "nbformat": 4,
 "nbformat_minor": 5
}
